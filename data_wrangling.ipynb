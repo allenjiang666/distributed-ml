{
 "cells": [
  {
   "cell_type": "markdown",
   "metadata": {},
   "source": [
    "# Data Acquisition\n",
    "This exercises uses the `case.csv`, `dept.csv`, and `source.csv` files from the san antonio 311 call dataset.\n",
    "\n",
    "- Read the case, department, and source data into their own spark dataframes.\n",
    "\n",
    "- Let's see how writing to the local disk works in spark:\n",
    "\n",
    "    - Write the code necessary to store the source data in both csv and json format, store these as sources_csv and sources_json\n",
    "    - Inspect your folder structure. What do you notice?\n",
    "- Inspect the data in your dataframes. Are the data types appropriate? Write the code necessary to cast the values to the appropriate types."
   ]
  },
  {
   "cell_type": "code",
   "execution_count": 1,
   "metadata": {},
   "outputs": [],
   "source": [
    "import pyspark\n",
    "from pyspark.sql.functions import *"
   ]
  },
  {
   "cell_type": "code",
   "execution_count": 2,
   "metadata": {},
   "outputs": [],
   "source": [
    "spark = pyspark.sql.SparkSession.builder.getOrCreate()"
   ]
  },
  {
   "cell_type": "code",
   "execution_count": 3,
   "metadata": {},
   "outputs": [],
   "source": [
    "case = spark.read.csv('case.csv', header=True, inferSchema=True)\n",
    "dept = spark.read.csv('dept.csv', header=True, inferSchema=True)\n",
    "source = spark.read.csv('source.csv', header=True, inferSchema=True)"
   ]
  },
  {
   "cell_type": "code",
   "execution_count": 4,
   "metadata": {},
   "outputs": [
    {
     "name": "stdout",
     "output_type": "stream",
     "text": [
      "-RECORD 0----------------------------------------------------\n",
      " case_id              | 1014127332                           \n",
      " case_opened_date     | 1/1/18 0:42                          \n",
      " case_closed_date     | 1/1/18 12:29                         \n",
      " SLA_due_date         | 9/26/20 0:42                         \n",
      " case_late            | NO                                   \n",
      " num_days_late        | -998.5087616000001                   \n",
      " case_closed          | YES                                  \n",
      " dept_division        | Field Operations                     \n",
      " service_request_type | Stray Animal                         \n",
      " SLA_days             | 999.0                                \n",
      " case_status          | Closed                               \n",
      " source_id            | svcCRMLS                             \n",
      " request_address      | 2315  EL PASO ST, San Antonio, 78207 \n",
      " council_district     | 5                                    \n",
      "only showing top 1 row\n",
      "\n"
     ]
    }
   ],
   "source": [
    "case.show(1, vertical=True, truncate=False)"
   ]
  },
  {
   "cell_type": "code",
   "execution_count": 5,
   "metadata": {},
   "outputs": [
    {
     "data": {
      "text/plain": [
       "[('case_id', 'int'),\n",
       " ('case_opened_date', 'string'),\n",
       " ('case_closed_date', 'string'),\n",
       " ('SLA_due_date', 'string'),\n",
       " ('case_late', 'string'),\n",
       " ('num_days_late', 'double'),\n",
       " ('case_closed', 'string'),\n",
       " ('dept_division', 'string'),\n",
       " ('service_request_type', 'string'),\n",
       " ('SLA_days', 'double'),\n",
       " ('case_status', 'string'),\n",
       " ('source_id', 'string'),\n",
       " ('request_address', 'string'),\n",
       " ('council_district', 'int')]"
      ]
     },
     "execution_count": 5,
     "metadata": {},
     "output_type": "execute_result"
    }
   ],
   "source": [
    "case.dtypes"
   ]
  },
  {
   "cell_type": "markdown",
   "metadata": {},
   "source": [
    "# Data Preparation"
   ]
  },
  {
   "cell_type": "markdown",
   "metadata": {},
   "source": [
    "## Rename the column name"
   ]
  },
  {
   "cell_type": "code",
   "execution_count": 6,
   "metadata": {},
   "outputs": [],
   "source": [
    "case = case.withColumnRenamed('SLA_due_date', 'case_due_date')"
   ]
  },
  {
   "cell_type": "markdown",
   "metadata": {},
   "source": [
    "## Change columns to a bool type"
   ]
  },
  {
   "cell_type": "code",
   "execution_count": 7,
   "metadata": {},
   "outputs": [],
   "source": [
    "case = (\n",
    "    case\n",
    "    .withColumn('case_late', col('case_late')== 'YES')\n",
    "    .withColumn('case_closed', col('case_closed')== 'YES')\n",
    ")"
   ]
  },
  {
   "cell_type": "markdown",
   "metadata": {},
   "source": [
    "## Change date to timestamp"
   ]
  },
  {
   "cell_type": "code",
   "execution_count": 8,
   "metadata": {},
   "outputs": [],
   "source": [
    "case =(\n",
    "    case\n",
    "    .withColumn('case_opened_date', to_timestamp(col('case_opened_date'), 'M/d/yy H:mm'))\n",
    "    .withColumn('case_closed_date', to_timestamp(col('case_closed_date'), 'M/d/yy H:mm'))\n",
    "    .withColumn('case_due_date', to_timestamp(col('case_due_date'), 'M/d/yy H:mm'))\n",
    ")"
   ]
  },
  {
   "cell_type": "code",
   "execution_count": 9,
   "metadata": {
    "scrolled": false
   },
   "outputs": [
    {
     "name": "stdout",
     "output_type": "stream",
     "text": [
      "-RECORD 0------------------------------------\n",
      " case_id              | 1014127332           \n",
      " case_opened_date     | 2018-01-01 00:42:00  \n",
      " case_closed_date     | 2018-01-01 12:29:00  \n",
      " case_due_date        | 2020-09-26 00:42:00  \n",
      " case_late            | false                \n",
      " num_days_late        | -998.5087616000001   \n",
      " case_closed          | true                 \n",
      " dept_division        | Field Operations     \n",
      " service_request_type | Stray Animal         \n",
      " SLA_days             | 999.0                \n",
      " case_status          | Closed               \n",
      " source_id            | svcCRMLS             \n",
      " request_address      | 2315  EL PASO ST,... \n",
      " council_district     | 5                    \n",
      "only showing top 1 row\n",
      "\n"
     ]
    }
   ],
   "source": [
    "case.show(1, vertical =True)"
   ]
  },
  {
   "cell_type": "markdown",
   "metadata": {},
   "source": [
    "##  Join other tables "
   ]
  },
  {
   "cell_type": "code",
   "execution_count": 10,
   "metadata": {
    "scrolled": false
   },
   "outputs": [
    {
     "name": "stdout",
     "output_type": "stream",
     "text": [
      "-RECORD 0---------------------------\n",
      " source_id       | 100137           \n",
      " source_username | Merlene Blodgett \n",
      "only showing top 1 row\n",
      "\n"
     ]
    }
   ],
   "source": [
    "source.show(1, vertical= True)"
   ]
  },
  {
   "cell_type": "code",
   "execution_count": 11,
   "metadata": {
    "scrolled": true
   },
   "outputs": [
    {
     "name": "stdout",
     "output_type": "stream",
     "text": [
      "-RECORD 0----------------------------------\n",
      " dept_division          | 311 Call Center  \n",
      " dept_name              | Customer Service \n",
      " standardized_dept_name | Customer Service \n",
      " dept_subject_to_SLA    | YES              \n",
      "only showing top 1 row\n",
      "\n"
     ]
    }
   ],
   "source": [
    "dept.show(1, vertical = True)"
   ]
  },
  {
   "cell_type": "code",
   "execution_count": 12,
   "metadata": {},
   "outputs": [],
   "source": [
    "df = (\n",
    "    case\n",
    "    .join(dept, 'dept_division', 'left')\n",
    "    .join(source, 'source_id', 'left')\n",
    ")"
   ]
  },
  {
   "cell_type": "code",
   "execution_count": 13,
   "metadata": {},
   "outputs": [
    {
     "name": "stdout",
     "output_type": "stream",
     "text": [
      "-RECORD 0--------------------------------------\n",
      " source_id              | svcCRMLS             \n",
      " dept_division          | Field Operations     \n",
      " case_id                | 1014127332           \n",
      " case_opened_date       | 2018-01-01 00:42:00  \n",
      " case_closed_date       | 2018-01-01 12:29:00  \n",
      " case_due_date          | 2020-09-26 00:42:00  \n",
      " case_late              | false                \n",
      " num_days_late          | -998.5087616000001   \n",
      " case_closed            | true                 \n",
      " service_request_type   | Stray Animal         \n",
      " SLA_days               | 999.0                \n",
      " case_status            | Closed               \n",
      " request_address        | 2315  EL PASO ST,... \n",
      " council_district       | 5                    \n",
      " dept_name              | Animal Care Services \n",
      " standardized_dept_name | Animal Care Services \n",
      " dept_subject_to_SLA    | YES                  \n",
      " source_username        | svcCRMLS             \n",
      "only showing top 1 row\n",
      "\n"
     ]
    }
   ],
   "source": [
    "df.show(1, vertical =True)"
   ]
  },
  {
   "cell_type": "markdown",
   "metadata": {},
   "source": [
    "# Data Exploration Exercise"
   ]
  },
  {
   "cell_type": "markdown",
   "metadata": {},
   "source": [
    "- How old is the latest (in terms of days past SLA) currently open issue? How long has the oldest (in terms of days since opened) currently opened issue been open?"
   ]
  },
  {
   "cell_type": "code",
   "execution_count": 14,
   "metadata": {
    "scrolled": false
   },
   "outputs": [
    {
     "name": "stdout",
     "output_type": "stream",
     "text": [
      "-RECORD 0--------------------------------------\n",
      " source_id              | CRM_Listener         \n",
      " dept_division          | Code Enforcement     \n",
      " case_id                | 1014759619           \n",
      " case_opened_date       | 2018-08-08 10:38:00  \n",
      " case_closed_date       | null                 \n",
      " case_due_date          | 2018-08-22 10:38:00  \n",
      " case_late              | false                \n",
      " num_days_late          | -13.44305556         \n",
      " case_closed            | false                \n",
      " service_request_type   | Bandit Signs         \n",
      " SLA_days               | 14.0                 \n",
      " case_status            | Open                 \n",
      " request_address        | 1935  MILITARY DR... \n",
      " council_district       | 3                    \n",
      " dept_name              | Code Enforcement ... \n",
      " standardized_dept_name | DSD/Code Enforcement \n",
      " dept_subject_to_SLA    | YES                  \n",
      " source_username        | CRM_Listener         \n",
      "only showing top 1 row\n",
      "\n"
     ]
    }
   ],
   "source": [
    "(\n",
    "    df\n",
    "    .where(col(\"num_days_late\").isNotNull())\n",
    "    .filter(col('case_closed')=='false')\n",
    "    .sort(col(\"case_opened_date\").desc())\n",
    "    .show(1, vertical=True)\n",
    ")"
   ]
  },
  {
   "cell_type": "markdown",
   "metadata": {},
   "source": [
    "- How many Stray Animal cases are there?"
   ]
  },
  {
   "cell_type": "code",
   "execution_count": 15,
   "metadata": {},
   "outputs": [
    {
     "data": {
      "text/plain": [
       "27361"
      ]
     },
     "execution_count": 15,
     "metadata": {},
     "output_type": "execute_result"
    }
   ],
   "source": [
    "df\\\n",
    ".filter(col('service_request_type')=='Stray Animal')\\\n",
    ".count()\\\n"
   ]
  },
  {
   "cell_type": "markdown",
   "metadata": {},
   "source": [
    "- How many service requests that are assigned to the Field Operations department (dept_division) are not classified as \"Officer Standby\" request type (service_request_type)?"
   ]
  },
  {
   "cell_type": "code",
   "execution_count": 28,
   "metadata": {},
   "outputs": [
    {
     "data": {
      "text/plain": [
       "116295"
      ]
     },
     "execution_count": 28,
     "metadata": {},
     "output_type": "execute_result"
    }
   ],
   "source": [
    "df\\\n",
    ".filter(col('dept_division')=='Field Operations')\\\n",
    ".filter(col('service_request_type')!='Officer Standby')\\\n",
    ".count()"
   ]
  },
  {
   "cell_type": "code",
   "execution_count": 17,
   "metadata": {},
   "outputs": [
    {
     "name": "stdout",
     "output_type": "stream",
     "text": [
      "+-------------------------------+\n",
      "|service_request_type           |\n",
      "+-------------------------------+\n",
      "|Animal Permits Request         |\n",
      "|Injured Animal(Critical)       |\n",
      "|Animal Bite(Non-Critical)      |\n",
      "|Stray Animal                   |\n",
      "|Trapped/Confined Animal        |\n",
      "|City Council Animal Request    |\n",
      "|Aggressive Animal(Non-Critical)|\n",
      "|Animal Bite(Critical)          |\n",
      "|Public Nuisance(Own Animal)    |\n",
      "|Aggressive Animal(Critical)    |\n",
      "|Animal Cruelty(Critical)       |\n",
      "|Spay/Neuter Request Response   |\n",
      "|Animal Neglect                 |\n",
      "+-------------------------------+\n",
      "\n"
     ]
    },
    {
     "data": {
      "text/plain": [
       "13"
      ]
     },
     "execution_count": 17,
     "metadata": {},
     "output_type": "execute_result"
    }
   ],
   "source": [
    "unique_service_type = df\\\n",
    ".filter(col('dept_division')=='Field Operations')\\\n",
    ".filter(col('service_request_type')!='Officer Standby')\\\n",
    ".select('service_request_type')\\\n",
    ".distinct()\n",
    "\n",
    "unique_service_type.show(truncate=False)\n",
    "unique_service_type.count()"
   ]
  },
  {
   "cell_type": "markdown",
   "metadata": {},
   "source": [
    "- Convert the council_district column to a string column."
   ]
  },
  {
   "cell_type": "code",
   "execution_count": 18,
   "metadata": {},
   "outputs": [
    {
     "data": {
      "text/plain": [
       "[('council_district', 'string')]"
      ]
     },
     "execution_count": 18,
     "metadata": {},
     "output_type": "execute_result"
    }
   ],
   "source": [
    "df = df.withColumn('council_district', col('council_district').cast('string'))\n",
    "df.select('council_district').dtypes"
   ]
  },
  {
   "cell_type": "markdown",
   "metadata": {},
   "source": [
    "- Extract the year from the case_closed_date column."
   ]
  },
  {
   "cell_type": "code",
   "execution_count": 19,
   "metadata": {},
   "outputs": [
    {
     "name": "stdout",
     "output_type": "stream",
     "text": [
      "-RECORD 0--------------------------------------\n",
      " source_id              | svcCRMLS             \n",
      " dept_division          | Field Operations     \n",
      " case_id                | 1014127332           \n",
      " case_opened_date       | 2018-01-01 00:42:00  \n",
      " case_closed_date       | 2018-01-01 12:29:00  \n",
      " case_due_date          | 2020-09-26 00:42:00  \n",
      " case_late              | false                \n",
      " num_days_late          | -998.5087616000001   \n",
      " case_closed            | true                 \n",
      " service_request_type   | Stray Animal         \n",
      " SLA_days               | 999.0                \n",
      " case_status            | Closed               \n",
      " request_address        | 2315  EL PASO ST,... \n",
      " council_district       | 5                    \n",
      " dept_name              | Animal Care Services \n",
      " standardized_dept_name | Animal Care Services \n",
      " dept_subject_to_SLA    | YES                  \n",
      " source_username        | svcCRMLS             \n",
      " year                   | 2018                 \n",
      "only showing top 1 row\n",
      "\n"
     ]
    }
   ],
   "source": [
    "df = df.withColumn('year', year('case_closed_date'))\n",
    "df.show(1,vertical=True)"
   ]
  },
  {
   "cell_type": "markdown",
   "metadata": {},
   "source": [
    "- Convert num_days_late from days to hours in new columns num_hours_late."
   ]
  },
  {
   "cell_type": "code",
   "execution_count": 20,
   "metadata": {},
   "outputs": [
    {
     "name": "stdout",
     "output_type": "stream",
     "text": [
      "-RECORD 0--------------------------------------\n",
      " source_id              | svcCRMLS             \n",
      " dept_division          | Field Operations     \n",
      " case_id                | 1014127332           \n",
      " case_opened_date       | 2018-01-01 00:42:00  \n",
      " case_closed_date       | 2018-01-01 12:29:00  \n",
      " case_due_date          | 2020-09-26 00:42:00  \n",
      " case_late              | false                \n",
      " num_days_late          | -998.5087616000001   \n",
      " case_closed            | true                 \n",
      " service_request_type   | Stray Animal         \n",
      " SLA_days               | 999.0                \n",
      " case_status            | Closed               \n",
      " request_address        | 2315  EL PASO ST,... \n",
      " council_district       | 5                    \n",
      " dept_name              | Animal Care Services \n",
      " standardized_dept_name | Animal Care Services \n",
      " dept_subject_to_SLA    | YES                  \n",
      " source_username        | svcCRMLS             \n",
      " year                   | 2018                 \n",
      " num_hours_late         | -23964.2102784       \n",
      "only showing top 1 row\n",
      "\n"
     ]
    }
   ],
   "source": [
    "df = df.withColumn('num_hours_late', col('num_days_late')*24)\n",
    "df.show(1,vertical=True)"
   ]
  },
  {
   "cell_type": "markdown",
   "metadata": {},
   "source": [
    "- Are there any cases that do not have a request source?"
   ]
  },
  {
   "cell_type": "code",
   "execution_count": 21,
   "metadata": {
    "scrolled": true
   },
   "outputs": [
    {
     "data": {
      "text/plain": [
       "0"
      ]
     },
     "execution_count": 21,
     "metadata": {},
     "output_type": "execute_result"
    }
   ],
   "source": [
    "df.where(col('source_id').isNull()).count()"
   ]
  },
  {
   "cell_type": "markdown",
   "metadata": {},
   "source": [
    "- What are the top 10 service request types in terms of number of requests?"
   ]
  },
  {
   "cell_type": "code",
   "execution_count": 22,
   "metadata": {},
   "outputs": [
    {
     "name": "stdout",
     "output_type": "stream",
     "text": [
      "+--------------------+-----+\n",
      "|service_request_type|count|\n",
      "+--------------------+-----+\n",
      "|           No Pickup|89210|\n",
      "|Overgrown Yard/Trash|66403|\n",
      "|        Bandit Signs|32968|\n",
      "|        Damaged Cart|31163|\n",
      "|Front Or Side Yar...|28920|\n",
      "|        Stray Animal|27361|\n",
      "|Aggressive Animal...|25492|\n",
      "|Cart Exchange Req...|22608|\n",
      "|Junk Vehicle On P...|21649|\n",
      "|     Pot Hole Repair|20827|\n",
      "+--------------------+-----+\n",
      "only showing top 10 rows\n",
      "\n"
     ]
    }
   ],
   "source": [
    "(\n",
    "    df\n",
    "    .groupBy('service_request_type')\n",
    "    .count()\n",
    "    .sort(col(\"count\").desc())\n",
    "    .show(10)\n",
    ")"
   ]
  },
  {
   "cell_type": "markdown",
   "metadata": {},
   "source": [
    "- What are the top 10 service request types in terms of average days late?"
   ]
  },
  {
   "cell_type": "code",
   "execution_count": 23,
   "metadata": {},
   "outputs": [
    {
     "name": "stdout",
     "output_type": "stream",
     "text": [
      "+--------------------------------------+------------------+\n",
      "|service_request_type                  |average_days_late |\n",
      "+--------------------------------------+------------------+\n",
      "|Zoning: Junk Yards                    |175.95636210420943|\n",
      "|Labeling for Used Mattress            |162.43032902285717|\n",
      "|Record Keeping of Used Mattresses     |153.99724039428568|\n",
      "|Signage Requied for Sale of Used Mattr|151.63868055333333|\n",
      "|Storage of Used Mattress              |142.11255641500003|\n",
      "|Zoning: Recycle Yard                  |135.92851612479797|\n",
      "|Donation Container Enforcement        |131.75610506358706|\n",
      "|License Requied Used Mattress Sales   |128.79828704142858|\n",
      "|Traffic Signal Graffiti               |101.79846062200002|\n",
      "|Complaint                             |72.8705023031169  |\n",
      "+--------------------------------------+------------------+\n",
      "only showing top 10 rows\n",
      "\n"
     ]
    }
   ],
   "source": [
    "(\n",
    "    df\n",
    "    .where(col(\"num_days_late\").isNotNull())\n",
    "    .groupBy('service_request_type')\n",
    "    .agg(avg('num_days_late').alias('average_days_late'))\n",
    "    .sort(col('average_days_late').desc())\n",
    "    .show(10, truncate =False)\n",
    ")"
   ]
  },
  {
   "cell_type": "markdown",
   "metadata": {},
   "source": [
    "- Does number of days late depend on department?"
   ]
  },
  {
   "cell_type": "code",
   "execution_count": 29,
   "metadata": {},
   "outputs": [
    {
     "name": "stdout",
     "output_type": "stream",
     "text": [
      "+------------------------+------------------+\n",
      "|standardized_dept_name  |average_days_late |\n",
      "+------------------------+------------------+\n",
      "|Customer Service        |88.18248182589822 |\n",
      "|DSD/Code Enforcement    |49.506339986350454|\n",
      "|Animal Care Services    |23.4467296347382  |\n",
      "|Parks & Recreation      |22.427807192724135|\n",
      "|Trans & Cap Improvements|10.662950455078674|\n",
      "|Solid Waste             |7.1471727895574135|\n",
      "|Metro Health            |6.494699602827871 |\n",
      "+------------------------+------------------+\n",
      "\n"
     ]
    }
   ],
   "source": [
    "(\n",
    "    df\n",
    "    .filter('case_late') # just look at the late cases.\n",
    "    .where(col(\"num_days_late\").isNotNull())\n",
    "    .groupBy('standardized_dept_name')\n",
    "    .agg(avg('num_days_late').alias('average_days_late'))\n",
    "    .sort(col('average_days_late').desc())\n",
    "    .show(10, truncate =False)\n",
    ")"
   ]
  },
  {
   "cell_type": "markdown",
   "metadata": {},
   "source": [
    "- How do number of days late depend on department and request type?"
   ]
  },
  {
   "cell_type": "code",
   "execution_count": 25,
   "metadata": {},
   "outputs": [
    {
     "name": "stdout",
     "output_type": "stream",
     "text": [
      "+----------------------+--------------------+------------------+\n",
      "|standardized_dept_name|service_request_type| average_days_late|\n",
      "+----------------------+--------------------+------------------+\n",
      "|  DSD/Code Enforcement|  Zoning: Junk Yards|175.95636210420943|\n",
      "|  DSD/Code Enforcement|Labeling for Used...|162.43032902285717|\n",
      "|  DSD/Code Enforcement|Record Keeping of...|153.99724039428568|\n",
      "|  DSD/Code Enforcement|Signage Requied f...|151.63868055333333|\n",
      "|  DSD/Code Enforcement|Storage of Used M...|142.11255641500003|\n",
      "|  DSD/Code Enforcement|Zoning: Recycle Yard|135.92851612479797|\n",
      "|  DSD/Code Enforcement|Donation Containe...|131.75610506358706|\n",
      "|  DSD/Code Enforcement|License Requied U...|128.79828704142858|\n",
      "|  Trans & Cap Impro...|Traffic Signal Gr...|101.79846062200002|\n",
      "|      Customer Service|           Complaint|  72.8705023031169|\n",
      "+----------------------+--------------------+------------------+\n",
      "only showing top 10 rows\n",
      "\n"
     ]
    }
   ],
   "source": [
    "(\n",
    "    df\n",
    "    .where(col(\"num_days_late\").isNotNull())\n",
    "    .groupBy('standardized_dept_name','service_request_type')\n",
    "    .agg(avg('num_days_late').alias('average_days_late'))\n",
    "    .sort(col('average_days_late').desc())\n",
    "    .show(10)\n",
    ")"
   ]
  },
  {
   "cell_type": "markdown",
   "metadata": {},
   "source": [
    "- You might have noticed that the latest date in the dataset is fairly far off from the present day. To account for this, replace any occurances of the current time with the maximum date from the dataset."
   ]
  },
  {
   "cell_type": "code",
   "execution_count": 26,
   "metadata": {},
   "outputs": [
    {
     "name": "stdout",
     "output_type": "stream",
     "text": [
      "-RECORD 0--------------------------------------\n",
      " source_id              | svcCRMLS             \n",
      " dept_division          | Field Operations     \n",
      " case_id                | 1014127332           \n",
      " case_opened_date       | 2018-01-01 00:42:00  \n",
      " case_closed_date       | 2018-01-01 12:29:00  \n",
      " case_due_date          | 2020-09-26 00:42:00  \n",
      " case_late              | false                \n",
      " num_days_late          | -998.5087616000001   \n",
      " case_closed            | true                 \n",
      " service_request_type   | Stray Animal         \n",
      " SLA_days               | 999.0                \n",
      " case_status            | Closed               \n",
      " request_address        | 2315  EL PASO ST,... \n",
      " council_district       | 5                    \n",
      " dept_name              | Animal Care Services \n",
      " standardized_dept_name | Animal Care Services \n",
      " dept_subject_to_SLA    | YES                  \n",
      " source_username        | svcCRMLS             \n",
      " year                   | 2018                 \n",
      " num_hours_late         | -23964.2102784       \n",
      "only showing top 1 row\n",
      "\n"
     ]
    }
   ],
   "source": [
    "df.show(1,vertical =True)"
   ]
  },
  {
   "cell_type": "code",
   "execution_count": 27,
   "metadata": {},
   "outputs": [
    {
     "name": "stdout",
     "output_type": "stream",
     "text": [
      "+---------------------+\n",
      "|max(case_closed_date)|\n",
      "+---------------------+\n",
      "|  2018-08-08 10:38:00|\n",
      "+---------------------+\n",
      "\n"
     ]
    }
   ],
   "source": [
    "max_date = df.agg(max('case_closed_date'))\n",
    "max_date.show()"
   ]
  },
  {
   "cell_type": "code",
   "execution_count": null,
   "metadata": {},
   "outputs": [],
   "source": []
  }
 ],
 "metadata": {
  "kernelspec": {
   "display_name": "Python 3",
   "language": "python",
   "name": "python3"
  },
  "language_info": {
   "codemirror_mode": {
    "name": "ipython",
    "version": 3
   },
   "file_extension": ".py",
   "mimetype": "text/x-python",
   "name": "python",
   "nbconvert_exporter": "python",
   "pygments_lexer": "ipython3",
   "version": "3.7.4"
  },
  "toc": {
   "base_numbering": 1,
   "nav_menu": {},
   "number_sections": true,
   "sideBar": true,
   "skip_h1_title": false,
   "title_cell": "Table of Contents",
   "title_sidebar": "Contents",
   "toc_cell": false,
   "toc_position": {
    "height": "calc(100% - 180px)",
    "left": "10px",
    "top": "150px",
    "width": "236.989px"
   },
   "toc_section_display": true,
   "toc_window_display": false
  }
 },
 "nbformat": 4,
 "nbformat_minor": 2
}
